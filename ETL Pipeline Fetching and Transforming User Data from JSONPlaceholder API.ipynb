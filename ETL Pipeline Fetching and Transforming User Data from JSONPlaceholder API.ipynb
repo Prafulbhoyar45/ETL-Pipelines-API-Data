{
 "cells": [
  {
   "cell_type": "markdown",
   "id": "722c3f30",
   "metadata": {},
   "source": [
    "# ETL Pipeline: Fetching and Transforming User Data from JSONPlaceholder API"
   ]
  },
  {
   "cell_type": "markdown",
   "id": "8a087152",
   "metadata": {},
   "source": [
    "#### Step 1: Install Necessary Libraries"
   ]
  },
  {
   "cell_type": "code",
   "execution_count": 1,
   "id": "e05faf96",
   "metadata": {},
   "outputs": [],
   "source": [
    "# # Install the necessary packages\n",
    "# !pip install requests pandas"
   ]
  },
  {
   "cell_type": "markdown",
   "id": "dd9861a2",
   "metadata": {},
   "source": [
    "#### Step 2: Import Necessary Libraries"
   ]
  },
  {
   "cell_type": "code",
   "execution_count": 2,
   "id": "e1b673a0",
   "metadata": {},
   "outputs": [],
   "source": [
    "# Import the requests library to handle HTTP requests\n",
    "import requests\n",
    "\n",
    "# Import the pandas library to handle data in a tabular format\n",
    "import pandas as pd"
   ]
  },
  {
   "cell_type": "markdown",
   "id": "9fecb3df",
   "metadata": {},
   "source": [
    "#### Step 3: Collect Data from the API in JSON Format"
   ]
  },
  {
   "cell_type": "code",
   "execution_count": 3,
   "id": "00b47acb",
   "metadata": {},
   "outputs": [
    {
     "name": "stdout",
     "output_type": "stream",
     "text": [
      "Fetched JSON data:\n",
      "[{'id': 1, 'name': 'Leanne Graham', 'username': 'Bret', 'email': 'Sincere@april.biz', 'address': {'street': 'Kulas Light', 'suite': 'Apt. 556', 'city': 'Gwenborough', 'zipcode': '92998-3874', 'geo': {'lat': '-37.3159', 'lng': '81.1496'}}, 'phone': '1-770-736-8031 x56442', 'website': 'hildegard.org', 'company': {'name': 'Romaguera-Crona', 'catchPhrase': 'Multi-layered client-server neural-net', 'bs': 'harness real-time e-markets'}}, {'id': 2, 'name': 'Ervin Howell', 'username': 'Antonette', 'email': 'Shanna@melissa.tv', 'address': {'street': 'Victor Plains', 'suite': 'Suite 879', 'city': 'Wisokyburgh', 'zipcode': '90566-7771', 'geo': {'lat': '-43.9509', 'lng': '-34.4618'}}, 'phone': '010-692-6593 x09125', 'website': 'anastasia.net', 'company': {'name': 'Deckow-Crist', 'catchPhrase': 'Proactive didactic contingency', 'bs': 'synergize scalable supply-chains'}}, {'id': 3, 'name': 'Clementine Bauch', 'username': 'Samantha', 'email': 'Nathan@yesenia.net', 'address': {'street': 'Douglas Extension', 'suite': 'Suite 847', 'city': 'McKenziehaven', 'zipcode': '59590-4157', 'geo': {'lat': '-68.6102', 'lng': '-47.0653'}}, 'phone': '1-463-123-4447', 'website': 'ramiro.info', 'company': {'name': 'Romaguera-Jacobson', 'catchPhrase': 'Face to face bifurcated interface', 'bs': 'e-enable strategic applications'}}, {'id': 4, 'name': 'Patricia Lebsack', 'username': 'Karianne', 'email': 'Julianne.OConner@kory.org', 'address': {'street': 'Hoeger Mall', 'suite': 'Apt. 692', 'city': 'South Elvis', 'zipcode': '53919-4257', 'geo': {'lat': '29.4572', 'lng': '-164.2990'}}, 'phone': '493-170-9623 x156', 'website': 'kale.biz', 'company': {'name': 'Robel-Corkery', 'catchPhrase': 'Multi-tiered zero tolerance productivity', 'bs': 'transition cutting-edge web services'}}, {'id': 5, 'name': 'Chelsey Dietrich', 'username': 'Kamren', 'email': 'Lucio_Hettinger@annie.ca', 'address': {'street': 'Skiles Walks', 'suite': 'Suite 351', 'city': 'Roscoeview', 'zipcode': '33263', 'geo': {'lat': '-31.8129', 'lng': '62.5342'}}, 'phone': '(254)954-1289', 'website': 'demarco.info', 'company': {'name': 'Keebler LLC', 'catchPhrase': 'User-centric fault-tolerant solution', 'bs': 'revolutionize end-to-end systems'}}, {'id': 6, 'name': 'Mrs. Dennis Schulist', 'username': 'Leopoldo_Corkery', 'email': 'Karley_Dach@jasper.info', 'address': {'street': 'Norberto Crossing', 'suite': 'Apt. 950', 'city': 'South Christy', 'zipcode': '23505-1337', 'geo': {'lat': '-71.4197', 'lng': '71.7478'}}, 'phone': '1-477-935-8478 x6430', 'website': 'ola.org', 'company': {'name': 'Considine-Lockman', 'catchPhrase': 'Synchronised bottom-line interface', 'bs': 'e-enable innovative applications'}}, {'id': 7, 'name': 'Kurtis Weissnat', 'username': 'Elwyn.Skiles', 'email': 'Telly.Hoeger@billy.biz', 'address': {'street': 'Rex Trail', 'suite': 'Suite 280', 'city': 'Howemouth', 'zipcode': '58804-1099', 'geo': {'lat': '24.8918', 'lng': '21.8984'}}, 'phone': '210.067.6132', 'website': 'elvis.io', 'company': {'name': 'Johns Group', 'catchPhrase': 'Configurable multimedia task-force', 'bs': 'generate enterprise e-tailers'}}, {'id': 8, 'name': 'Nicholas Runolfsdottir V', 'username': 'Maxime_Nienow', 'email': 'Sherwood@rosamond.me', 'address': {'street': 'Ellsworth Summit', 'suite': 'Suite 729', 'city': 'Aliyaview', 'zipcode': '45169', 'geo': {'lat': '-14.3990', 'lng': '-120.7677'}}, 'phone': '586.493.6943 x140', 'website': 'jacynthe.com', 'company': {'name': 'Abernathy Group', 'catchPhrase': 'Implemented secondary concept', 'bs': 'e-enable extensible e-tailers'}}, {'id': 9, 'name': 'Glenna Reichert', 'username': 'Delphine', 'email': 'Chaim_McDermott@dana.io', 'address': {'street': 'Dayna Park', 'suite': 'Suite 449', 'city': 'Bartholomebury', 'zipcode': '76495-3109', 'geo': {'lat': '24.6463', 'lng': '-168.8889'}}, 'phone': '(775)976-6794 x41206', 'website': 'conrad.com', 'company': {'name': 'Yost and Sons', 'catchPhrase': 'Switchable contextually-based project', 'bs': 'aggregate real-time technologies'}}, {'id': 10, 'name': 'Clementina DuBuque', 'username': 'Moriah.Stanton', 'email': 'Rey.Padberg@karina.biz', 'address': {'street': 'Kattie Turnpike', 'suite': 'Suite 198', 'city': 'Lebsackbury', 'zipcode': '31428-2261', 'geo': {'lat': '-38.2386', 'lng': '57.2232'}}, 'phone': '024-648-3804', 'website': 'ambrose.net', 'company': {'name': 'Hoeger LLC', 'catchPhrase': 'Centralized empowering task-force', 'bs': 'target end-to-end models'}}]\n"
     ]
    }
   ],
   "source": [
    "# We'll fetch user data from the JSONPlaceholder API and display the JSON data.\n",
    "# Set the URL for the JSONPlaceholder API to fetch user data\n",
    "URL = 'https://jsonplaceholder.typicode.com/users'\n",
    "\n",
    "# Fetch data from the API\n",
    "response = requests.get(URL)\n",
    "\n",
    "# Check if the request was successful\n",
    "if response.status_code == 200:\n",
    "    # Parse the JSON response\n",
    "    data = response.json()\n",
    "    \n",
    "    # Print the JSON data\n",
    "    print(\"Fetched JSON data:\")\n",
    "    print(data)\n",
    "else:\n",
    "    # Print an error message if the request was not successful\n",
    "    print(f\"Failed to fetch data. HTTP Status code: {response.status_code}\")\n"
   ]
  },
  {
   "cell_type": "markdown",
   "id": "6fbf2272",
   "metadata": {},
   "source": [
    "#### Step 4: Transform Data into Tabular Format"
   ]
  },
  {
   "cell_type": "code",
   "execution_count": 4,
   "id": "abd35dfe",
   "metadata": {},
   "outputs": [
    {
     "name": "stdout",
     "output_type": "stream",
     "text": [
      "Transformed data into tabular format.\n"
     ]
    }
   ],
   "source": [
    "# We'll transform the JSON data into a pandas DataFrame for easier analysis and manipulation.\n",
    "# Check if the request was successful before transforming data\n",
    "if response.status_code == 200:\n",
    "    # Extract necessary data and convert it into a pandas DataFrame\n",
    "    # We create a dictionary where each key is a column name and each value is a list of column values\n",
    "    users_data = {\n",
    "        'ID': [user['id'] for user in data],\n",
    "        'Name': [user['name'] for user in data],\n",
    "        'Username': [user['username'] for user in data],\n",
    "        'Email': [user['email'] for user in data],\n",
    "        'City': [user['address']['city'] for user in data],\n",
    "        'Phone': [user['phone'] for user in data],\n",
    "        'Website': [user['website'] for user in data],\n",
    "        'Company': [user['company']['name'] for user in data]\n",
    "    }\n",
    "\n",
    "    # Create a pandas DataFrame from the dictionary\n",
    "    df = pd.DataFrame(users_data)\n",
    "    \n",
    "    # Print a message indicating successful transformation\n",
    "    print(\"Transformed data into tabular format.\")\n",
    "else:\n",
    "    # Print an error message if the request was not successful\n",
    "    print(f\"Failed to fetch data. HTTP Status code: {response.status_code}\")"
   ]
  },
  {
   "cell_type": "markdown",
   "id": "b56454f7",
   "metadata": {},
   "source": [
    "#### Step 5: Show the Tabular Formatted Data"
   ]
  },
  {
   "cell_type": "code",
   "execution_count": 6,
   "id": "e465db3f",
   "metadata": {},
   "outputs": [
    {
     "name": "stdout",
     "output_type": "stream",
     "text": [
      "Tabular formatted data:\n",
      "   ID           Name   Username              Email         City  \\\n",
      "0   1  Leanne Graham       Bret  Sincere@april.biz  Gwenborough   \n",
      "1   2   Ervin Howell  Antonette  Shanna@melissa.tv  Wisokyburgh   \n",
      "\n",
      "                   Phone        Website          Company  \n",
      "0  1-770-736-8031 x56442  hildegard.org  Romaguera-Crona  \n",
      "1    010-692-6593 x09125  anastasia.net     Deckow-Crist  \n"
     ]
    }
   ],
   "source": [
    "# Finally, we'll display the transformed data in a tabular format.\n",
    "# Check if the DataFrame has been created before attempting to display it\n",
    "if response.status_code == 200:\n",
    "    # Display the DataFrame\n",
    "    print(\"Tabular formatted data:\")\n",
    "    print(df.head(2))\n",
    "else:\n",
    "    # Print an error message if the DataFrame was not created\n",
    "    print(\"No data to display.\")"
   ]
  },
  {
   "cell_type": "code",
   "execution_count": 7,
   "id": "b2bdbf1d",
   "metadata": {},
   "outputs": [
    {
     "data": {
      "text/html": [
       "<div>\n",
       "<style scoped>\n",
       "    .dataframe tbody tr th:only-of-type {\n",
       "        vertical-align: middle;\n",
       "    }\n",
       "\n",
       "    .dataframe tbody tr th {\n",
       "        vertical-align: top;\n",
       "    }\n",
       "\n",
       "    .dataframe thead th {\n",
       "        text-align: right;\n",
       "    }\n",
       "</style>\n",
       "<table border=\"1\" class=\"dataframe\">\n",
       "  <thead>\n",
       "    <tr style=\"text-align: right;\">\n",
       "      <th></th>\n",
       "      <th>ID</th>\n",
       "      <th>Name</th>\n",
       "      <th>Username</th>\n",
       "      <th>Email</th>\n",
       "      <th>City</th>\n",
       "      <th>Phone</th>\n",
       "      <th>Website</th>\n",
       "      <th>Company</th>\n",
       "    </tr>\n",
       "  </thead>\n",
       "  <tbody>\n",
       "    <tr>\n",
       "      <th>0</th>\n",
       "      <td>1</td>\n",
       "      <td>Leanne Graham</td>\n",
       "      <td>Bret</td>\n",
       "      <td>Sincere@april.biz</td>\n",
       "      <td>Gwenborough</td>\n",
       "      <td>1-770-736-8031 x56442</td>\n",
       "      <td>hildegard.org</td>\n",
       "      <td>Romaguera-Crona</td>\n",
       "    </tr>\n",
       "    <tr>\n",
       "      <th>1</th>\n",
       "      <td>2</td>\n",
       "      <td>Ervin Howell</td>\n",
       "      <td>Antonette</td>\n",
       "      <td>Shanna@melissa.tv</td>\n",
       "      <td>Wisokyburgh</td>\n",
       "      <td>010-692-6593 x09125</td>\n",
       "      <td>anastasia.net</td>\n",
       "      <td>Deckow-Crist</td>\n",
       "    </tr>\n",
       "    <tr>\n",
       "      <th>2</th>\n",
       "      <td>3</td>\n",
       "      <td>Clementine Bauch</td>\n",
       "      <td>Samantha</td>\n",
       "      <td>Nathan@yesenia.net</td>\n",
       "      <td>McKenziehaven</td>\n",
       "      <td>1-463-123-4447</td>\n",
       "      <td>ramiro.info</td>\n",
       "      <td>Romaguera-Jacobson</td>\n",
       "    </tr>\n",
       "    <tr>\n",
       "      <th>3</th>\n",
       "      <td>4</td>\n",
       "      <td>Patricia Lebsack</td>\n",
       "      <td>Karianne</td>\n",
       "      <td>Julianne.OConner@kory.org</td>\n",
       "      <td>South Elvis</td>\n",
       "      <td>493-170-9623 x156</td>\n",
       "      <td>kale.biz</td>\n",
       "      <td>Robel-Corkery</td>\n",
       "    </tr>\n",
       "    <tr>\n",
       "      <th>4</th>\n",
       "      <td>5</td>\n",
       "      <td>Chelsey Dietrich</td>\n",
       "      <td>Kamren</td>\n",
       "      <td>Lucio_Hettinger@annie.ca</td>\n",
       "      <td>Roscoeview</td>\n",
       "      <td>(254)954-1289</td>\n",
       "      <td>demarco.info</td>\n",
       "      <td>Keebler LLC</td>\n",
       "    </tr>\n",
       "  </tbody>\n",
       "</table>\n",
       "</div>"
      ],
      "text/plain": [
       "   ID              Name   Username                      Email           City  \\\n",
       "0   1     Leanne Graham       Bret          Sincere@april.biz    Gwenborough   \n",
       "1   2      Ervin Howell  Antonette          Shanna@melissa.tv    Wisokyburgh   \n",
       "2   3  Clementine Bauch   Samantha         Nathan@yesenia.net  McKenziehaven   \n",
       "3   4  Patricia Lebsack   Karianne  Julianne.OConner@kory.org    South Elvis   \n",
       "4   5  Chelsey Dietrich     Kamren   Lucio_Hettinger@annie.ca     Roscoeview   \n",
       "\n",
       "                   Phone        Website             Company  \n",
       "0  1-770-736-8031 x56442  hildegard.org     Romaguera-Crona  \n",
       "1    010-692-6593 x09125  anastasia.net        Deckow-Crist  \n",
       "2         1-463-123-4447    ramiro.info  Romaguera-Jacobson  \n",
       "3      493-170-9623 x156       kale.biz       Robel-Corkery  \n",
       "4          (254)954-1289   demarco.info         Keebler LLC  "
      ]
     },
     "execution_count": 7,
     "metadata": {},
     "output_type": "execute_result"
    }
   ],
   "source": [
    "df.head()"
   ]
  },
  {
   "cell_type": "code",
   "execution_count": null,
   "id": "0f97e5c8",
   "metadata": {},
   "outputs": [],
   "source": []
  }
 ],
 "metadata": {
  "kernelspec": {
   "display_name": "Python 3 (ipykernel)",
   "language": "python",
   "name": "python3"
  },
  "language_info": {
   "codemirror_mode": {
    "name": "ipython",
    "version": 3
   },
   "file_extension": ".py",
   "mimetype": "text/x-python",
   "name": "python",
   "nbconvert_exporter": "python",
   "pygments_lexer": "ipython3",
   "version": "3.11.5"
  }
 },
 "nbformat": 4,
 "nbformat_minor": 5
}
