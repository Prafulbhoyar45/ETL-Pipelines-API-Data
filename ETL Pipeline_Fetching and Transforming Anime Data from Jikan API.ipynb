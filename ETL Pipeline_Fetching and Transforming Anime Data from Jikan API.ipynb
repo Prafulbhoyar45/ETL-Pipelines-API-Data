{
 "cells": [
  {
   "cell_type": "markdown",
   "id": "81fad7c4",
   "metadata": {},
   "source": [
    "# ETL Pipeline: Fetching and Transforming Anime Data from Jikan API"
   ]
  },
  {
   "cell_type": "markdown",
   "id": "48f339e9",
   "metadata": {},
   "source": [
    "#### Import Necessary Libraries"
   ]
  },
  {
   "cell_type": "code",
   "execution_count": 1,
   "id": "06ec386a",
   "metadata": {},
   "outputs": [],
   "source": [
    "# Import the requests library to handle HTTP requests\n",
    "import requests\n",
    "\n",
    "# Import the pandas library to handle data in a tabular format\n",
    "import pandas as pd\n"
   ]
  },
  {
   "cell_type": "markdown",
   "id": "ee825b20",
   "metadata": {},
   "source": [
    "#### Collect Data from the API in JSON Format"
   ]
  },
  {
   "cell_type": "code",
   "execution_count": 2,
   "id": "9eb41ca1",
   "metadata": {},
   "outputs": [
    {
     "name": "stdout",
     "output_type": "stream",
     "text": [
      "Fetched JSON data:\n",
      "[{'mal_id': 1, 'url': 'https://myanimelist.net/anime/1/Cowboy_Bebop', 'images': {'jpg': {'image_url': 'https://cdn.myanimelist.net/images/anime/4/19644.jpg', 'small_image_url': 'https://cdn.myanimelist.net/images/anime/4/19644t.jpg', 'large_image_url': 'https://cdn.myanimelist.net/images/anime/4/19644l.jpg'}, 'webp': {'image_url': 'https://cdn.myanimelist.net/images/anime/4/19644.webp', 'small_image_url': 'https://cdn.myanimelist.net/images/anime/4/19644t.webp', 'large_image_url': 'https://cdn.myanimelist.net/images/anime/4/19644l.webp'}}, 'trailer': {'youtube_id': 'gY5nDXOtv_o', 'url': 'https://www.youtube.com/watch?v=gY5nDXOtv_o', 'embed_url': 'https://www.youtube.com/embed/gY5nDXOtv_o?enablejsapi=1&wmode=opaque&autoplay=1', 'images': {'image_url': 'https://img.youtube.com/vi/gY5nDXOtv_o/default.jpg', 'small_image_url': 'https://img.youtube.com/vi/gY5nDXOtv_o/sddefault.jpg', 'medium_image_url': 'https://img.youtube.com/vi/gY5nDXOtv_o/mqdefault.jpg', 'large_image_url': 'https://img.youtube.com/vi/gY5nDXOtv_o/hqdefault.jpg', 'maximum_image_url': 'https://img.youtube.com/vi/gY5nDXOtv_o/maxresdefault.jpg'}}, 'approved': True, 'titles': [{'type': 'Default', 'title': 'Cowboy Bebop'}, {'type': 'Japanese', 'title': 'カウボーイビバップ'}, {'type': 'English', 'title': 'Cowboy Bebop'}], 'title': 'Cowboy Bebop', 'title_english': 'Cowboy Bebop', 'title_japanese': 'カウボーイビバップ', 'title_synonyms': [], 'type': 'TV', 'source': 'Original', 'episodes': 26, 'status': 'Finished Airing', 'airing': False, 'aired': {'from': '1998-04-03T00:00:00+00:00', 'to': '1999-04-24T00:00:00+00:00', 'prop': {'from': {'day': 3, 'month': 4, 'year': 1998}, 'to': {'day': 24, 'month': 4, 'year': 1999}}, 'string': 'Apr 3, 1998 to Apr 24, 1999'}, 'duration': '24 min per ep', 'rating': 'R - 17+ (violence & profanity)', 'score': 8.75, 'scored_by': 977471, 'rank': 45, 'popularity': 43, 'members': 1889009, 'favorites': 83259, 'synopsis': \"Crime is timeless. By the year 2071, humanity has expanded across the galaxy, filling the surface of other planets with settlements like those on Earth. These new societies are plagued by murder, drug use, and theft, and intergalactic outlaws are hunted by a growing number of tough bounty hunters.\\n\\nSpike Spiegel and Jet Black pursue criminals throughout space to make a humble living. Beneath his goofy and aloof demeanor, Spike is haunted by the weight of his violent past. Meanwhile, Jet manages his own troubled memories while taking care of Spike and the Bebop, their ship. The duo is joined by the beautiful con artist Faye Valentine, odd child Edward Wong Hau Pepelu Tivrusky IV, and Ein, a bioengineered Welsh Corgi.\\n\\nWhile developing bonds and working to catch a colorful cast of criminals, the Bebop crew's lives are disrupted by a menace from Spike's past. As a rival's maniacal plot continues to unravel, Spike must choose between life with his newfound family or revenge for his old wounds.\\n\\n[Written by MAL Rewrite]\", 'background': 'When Cowboy Bebop first aired in spring of 1998 on TV Tokyo, only episodes 2, 3, 7-15, and 18 were broadcast, it was concluded with a recap special known as Yose Atsume Blues. This was due to anime censorship having increased following the big controversies over Evangelion, as a result most of the series was pulled from the air due to violent content. Satellite channel WOWOW picked up the series in the fall of that year and aired it in its entirety uncensored. Cowboy Bebop was not a ratings hit in Japan, but sold over 19,000 DVD units in the initial release run, and 81,000 overall. Protagonist Spike Spiegel won Best Male Character, and Megumi Hayashibara won Best Voice Actor for her role as Faye Valentine in the 1999 and 2000 Anime Grand Prix, respectively. Cowboy Bebop\\'s biggest influence has been in the United States, where it premiered on Adult Swim in 2001 with many reruns since. The show\\'s heavy Western influence struck a chord with American viewers, where it became a \"gateway drug\" to anime aimed at adult audiences.', 'season': 'spring', 'year': 1998, 'broadcast': {'day': 'Saturdays', 'time': '01:00', 'timezone': 'Asia/Tokyo', 'string': 'Saturdays at 01:00 (JST)'}, 'producers': [{'mal_id': 23, 'type': 'anime', 'name': 'Bandai Visual', 'url': 'https://myanimelist.net/anime/producer/23/Bandai_Visual'}], 'licensors': [{'mal_id': 102, 'type': 'anime', 'name': 'Funimation', 'url': 'https://myanimelist.net/anime/producer/102/Funimation'}], 'studios': [{'mal_id': 14, 'type': 'anime', 'name': 'Sunrise', 'url': 'https://myanimelist.net/anime/producer/14/Sunrise'}], 'genres': [{'mal_id': 1, 'type': 'anime', 'name': 'Action', 'url': 'https://myanimelist.net/anime/genre/1/Action'}, {'mal_id': 46, 'type': 'anime', 'name': 'Award Winning', 'url': 'https://myanimelist.net/anime/genre/46/Award_Winning'}, {'mal_id': 24, 'type': 'anime', 'name': 'Sci-Fi', 'url': 'https://myanimelist.net/anime/genre/24/Sci-Fi'}], 'explicit_genres': [], 'themes': [{'mal_id': 50, 'type': 'anime', 'name': 'Adult Cast', 'url': 'https://myanimelist.net/anime/genre/50/Adult_Cast'}, {'mal_id': 29, 'type': 'anime', 'name': 'Space', 'url': 'https://myanimelist.net/anime/genre/29/Space'}], 'demographics': []}, {'mal_id': 5, 'url': 'https://myanimelist.net/anime/5/Cowboy_Bebop__Tengoku_no_Tobira', 'images': {'jpg': {'image_url': 'https://cdn.myanimelist.net/images/anime/1439/93480.jpg', 'small_image_url': 'https://cdn.myanimelist.net/images/anime/1439/93480t.jpg', 'large_image_url': 'https://cdn.myanimelist.net/images/anime/1439/93480l.jpg'}, 'webp': {'image_url': 'https://cdn.myanimelist.net/images/anime/1439/93480.webp', 'small_image_url': 'https://cdn.myanimelist.net/images/anime/1439/93480t.webp', 'large_image_url': 'https://cdn.myanimelist.net/images/anime/1439/93480l.webp'}}, 'trailer': {'youtube_id': None, 'url': None, 'embed_url': None, 'images': {'image_url': None, 'small_image_url': None, 'medium_image_url': None, 'large_image_url': None, 'maximum_image_url': None}}, 'approved': True, 'titles': [{'type': 'Default', 'title': 'Cowboy Bebop: Tengoku no Tobira'}, {'type': 'Synonym', 'title': \"Cowboy Bebop: Knockin' on Heaven's Door\"}, {'type': 'Japanese', 'title': 'カウボーイビバップ 天国の扉'}, {'type': 'English', 'title': 'Cowboy Bebop: The Movie'}, {'type': 'German', 'title': 'Cowboy Bebop: Der Film'}, {'type': 'Spanish', 'title': 'Cowboy Bebop: La Película'}, {'type': 'French', 'title': 'Cowboy Bebop: Le Film'}], 'title': 'Cowboy Bebop: Tengoku no Tobira', 'title_english': 'Cowboy Bebop: The Movie', 'title_japanese': 'カウボーイビバップ 天国の扉', 'title_synonyms': [\"Cowboy Bebop: Knockin' on Heaven's Door\"], 'type': 'Movie', 'source': 'Original', 'episodes': 1, 'status': 'Finished Airing', 'airing': False, 'aired': {'from': '2001-09-01T00:00:00+00:00', 'to': None, 'prop': {'from': {'day': 1, 'month': 9, 'year': 2001}, 'to': {'day': None, 'month': None, 'year': None}}, 'string': 'Sep 1, 2001'}, 'duration': '1 hr 55 min', 'rating': 'R - 17+ (violence & profanity)', 'score': 8.38, 'scored_by': 217863, 'rank': 200, 'popularity': 622, 'members': 382840, 'favorites': 1613, 'synopsis': 'Another day, another bounty—such is the life of the often unlucky crew of the Bebop. However, this routine is interrupted when Faye, who is chasing a fairly worthless target on Mars, witnesses an oil tanker suddenly explode, causing mass hysteria. As casualties mount due to a strange disease spreading through the smoke from the blast, a whopping three hundred million woolong price is placed on the head of the supposed perpetrator.\\n\\nWith lives at stake and a solution to their money problems in sight, the Bebop crew springs into action. Spike, Jet, Faye, and Edward, followed closely by Ein, split up to pursue different leads across Alba City. Through their individual investigations, they discover a cover-up scheme involving a pharmaceutical company, revealing a plot that reaches much further than the ragtag team of bounty hunters could have realized.\\n\\n[Written by MAL Rewrite]', 'background': '', 'season': None, 'year': None, 'broadcast': {'day': None, 'time': None, 'timezone': None, 'string': None}, 'producers': [{'mal_id': 14, 'type': 'anime', 'name': 'Sunrise', 'url': 'https://myanimelist.net/anime/producer/14/Sunrise'}, {'mal_id': 23, 'type': 'anime', 'name': 'Bandai Visual', 'url': 'https://myanimelist.net/anime/producer/23/Bandai_Visual'}], 'licensors': [{'mal_id': 15, 'type': 'anime', 'name': 'Sony Pictures Entertainment', 'url': 'https://myanimelist.net/anime/producer/15/Sony_Pictures_Entertainment'}, {'mal_id': 102, 'type': 'anime', 'name': 'Funimation', 'url': 'https://myanimelist.net/anime/producer/102/Funimation'}], 'studios': [{'mal_id': 4, 'type': 'anime', 'name': 'Bones', 'url': 'https://myanimelist.net/anime/producer/4/Bones'}], 'genres': [{'mal_id': 1, 'type': 'anime', 'name': 'Action', 'url': 'https://myanimelist.net/anime/genre/1/Action'}, {'mal_id': 24, 'type': 'anime', 'name': 'Sci-Fi', 'url': 'https://myanimelist.net/anime/genre/24/Sci-Fi'}], 'explicit_genres': [], 'themes': [{'mal_id': 50, 'type': 'anime', 'name': 'Adult Cast', 'url': 'https://myanimelist.net/anime/genre/50/Adult_Cast'}, {'mal_id': 29, 'type': 'anime', 'name': 'Space', 'url': 'https://myanimelist.net/anime/genre/29/Space'}], 'demographics': []}]\n"
     ]
    }
   ],
   "source": [
    "# Set the URL for the Jikan API to fetch anime data\n",
    "URL = 'https://api.jikan.moe/v4/anime'\n",
    "\n",
    "# Fetch data from the API\n",
    "response = requests.get(URL)\n",
    "\n",
    "# Check if the request was successful\n",
    "if response.status_code == 200:\n",
    "    # Parse the JSON response\n",
    "    data = response.json()\n",
    "    \n",
    "    # Print the JSON data\n",
    "    print(\"Fetched JSON data:\")\n",
    "    print(data['data'][:2])  # Displaying only the first two entries for brevity\n",
    "else:\n",
    "    # Print an error message if the request was not successful\n",
    "    print(f\"Failed to fetch data. HTTP Status code: {response.status_code}\")\n"
   ]
  },
  {
   "cell_type": "markdown",
   "id": "0821379b",
   "metadata": {},
   "source": [
    "#### Transform Data into Tabular Format"
   ]
  },
  {
   "cell_type": "code",
   "execution_count": 3,
   "id": "225c1853",
   "metadata": {},
   "outputs": [
    {
     "name": "stdout",
     "output_type": "stream",
     "text": [
      "Transformed data into tabular format.\n"
     ]
    }
   ],
   "source": [
    "# Check if the request was successful before transforming data\n",
    "if response.status_code == 200:\n",
    "    # Extract necessary data and convert it into a pandas DataFrame\n",
    "    # The JSON response contains a list of dictionaries with anime details\n",
    "    anime_data = {\n",
    "        'ID': [entry['mal_id'] for entry in data['data']],\n",
    "        'Title': [entry['title'] for entry in data['data']],\n",
    "        'Type': [entry['type'] for entry in data['data']],\n",
    "        'Score': [entry.get('score', 'N/A') for entry in data['data']],\n",
    "        'Episodes': [entry.get('episodes', 'N/A') for entry in data['data']],\n",
    "        'Status': [entry.get('status', 'N/A') for entry in data['data']],\n",
    "        'Genres': [', '.join([genre['name'] for genre in entry.get('genres', [])]) for entry in data['data']]\n",
    "    }\n",
    "\n",
    "    # Create a pandas DataFrame from the dictionary\n",
    "    df = pd.DataFrame(anime_data)\n",
    "    \n",
    "    # Print a message indicating successful transformation\n",
    "    print(\"Transformed data into tabular format.\")\n",
    "else:\n",
    "    # Print an error message if the request was not successful\n",
    "    print(f\"Failed to fetch data. HTTP Status code: {response.status_code}\")\n"
   ]
  },
  {
   "cell_type": "markdown",
   "id": "b4184a0b",
   "metadata": {},
   "source": [
    "#### Show the Tabular Formatted Data"
   ]
  },
  {
   "cell_type": "code",
   "execution_count": 4,
   "id": "411dd2e3",
   "metadata": {},
   "outputs": [
    {
     "data": {
      "text/html": [
       "<div>\n",
       "<style scoped>\n",
       "    .dataframe tbody tr th:only-of-type {\n",
       "        vertical-align: middle;\n",
       "    }\n",
       "\n",
       "    .dataframe tbody tr th {\n",
       "        vertical-align: top;\n",
       "    }\n",
       "\n",
       "    .dataframe thead th {\n",
       "        text-align: right;\n",
       "    }\n",
       "</style>\n",
       "<table border=\"1\" class=\"dataframe\">\n",
       "  <thead>\n",
       "    <tr style=\"text-align: right;\">\n",
       "      <th></th>\n",
       "      <th>ID</th>\n",
       "      <th>Title</th>\n",
       "      <th>Type</th>\n",
       "      <th>Score</th>\n",
       "      <th>Episodes</th>\n",
       "      <th>Status</th>\n",
       "      <th>Genres</th>\n",
       "    </tr>\n",
       "  </thead>\n",
       "  <tbody>\n",
       "    <tr>\n",
       "      <th>0</th>\n",
       "      <td>1</td>\n",
       "      <td>Cowboy Bebop</td>\n",
       "      <td>TV</td>\n",
       "      <td>8.75</td>\n",
       "      <td>26.0</td>\n",
       "      <td>Finished Airing</td>\n",
       "      <td>Action, Award Winning, Sci-Fi</td>\n",
       "    </tr>\n",
       "    <tr>\n",
       "      <th>1</th>\n",
       "      <td>5</td>\n",
       "      <td>Cowboy Bebop: Tengoku no Tobira</td>\n",
       "      <td>Movie</td>\n",
       "      <td>8.38</td>\n",
       "      <td>1.0</td>\n",
       "      <td>Finished Airing</td>\n",
       "      <td>Action, Sci-Fi</td>\n",
       "    </tr>\n",
       "    <tr>\n",
       "      <th>2</th>\n",
       "      <td>6</td>\n",
       "      <td>Trigun</td>\n",
       "      <td>TV</td>\n",
       "      <td>8.22</td>\n",
       "      <td>26.0</td>\n",
       "      <td>Finished Airing</td>\n",
       "      <td>Action, Adventure, Sci-Fi</td>\n",
       "    </tr>\n",
       "    <tr>\n",
       "      <th>3</th>\n",
       "      <td>7</td>\n",
       "      <td>Witch Hunter Robin</td>\n",
       "      <td>TV</td>\n",
       "      <td>7.24</td>\n",
       "      <td>26.0</td>\n",
       "      <td>Finished Airing</td>\n",
       "      <td>Action, Drama, Mystery, Supernatural</td>\n",
       "    </tr>\n",
       "    <tr>\n",
       "      <th>4</th>\n",
       "      <td>8</td>\n",
       "      <td>Bouken Ou Beet</td>\n",
       "      <td>TV</td>\n",
       "      <td>6.93</td>\n",
       "      <td>52.0</td>\n",
       "      <td>Finished Airing</td>\n",
       "      <td>Action, Adventure, Fantasy</td>\n",
       "    </tr>\n",
       "  </tbody>\n",
       "</table>\n",
       "</div>"
      ],
      "text/plain": [
       "   ID                            Title   Type  Score  Episodes  \\\n",
       "0   1                     Cowboy Bebop     TV   8.75      26.0   \n",
       "1   5  Cowboy Bebop: Tengoku no Tobira  Movie   8.38       1.0   \n",
       "2   6                           Trigun     TV   8.22      26.0   \n",
       "3   7               Witch Hunter Robin     TV   7.24      26.0   \n",
       "4   8                   Bouken Ou Beet     TV   6.93      52.0   \n",
       "\n",
       "            Status                                Genres  \n",
       "0  Finished Airing         Action, Award Winning, Sci-Fi  \n",
       "1  Finished Airing                        Action, Sci-Fi  \n",
       "2  Finished Airing             Action, Adventure, Sci-Fi  \n",
       "3  Finished Airing  Action, Drama, Mystery, Supernatural  \n",
       "4  Finished Airing            Action, Adventure, Fantasy  "
      ]
     },
     "execution_count": 4,
     "metadata": {},
     "output_type": "execute_result"
    }
   ],
   "source": [
    "df.head()"
   ]
  },
  {
   "cell_type": "code",
   "execution_count": 5,
   "id": "33bfe00d",
   "metadata": {},
   "outputs": [
    {
     "data": {
      "text/plain": [
       "(25, 7)"
      ]
     },
     "execution_count": 5,
     "metadata": {},
     "output_type": "execute_result"
    }
   ],
   "source": [
    "df.shape"
   ]
  },
  {
   "cell_type": "code",
   "execution_count": null,
   "id": "d6d0f386",
   "metadata": {},
   "outputs": [],
   "source": []
  }
 ],
 "metadata": {
  "kernelspec": {
   "display_name": "Python 3 (ipykernel)",
   "language": "python",
   "name": "python3"
  },
  "language_info": {
   "codemirror_mode": {
    "name": "ipython",
    "version": 3
   },
   "file_extension": ".py",
   "mimetype": "text/x-python",
   "name": "python",
   "nbconvert_exporter": "python",
   "pygments_lexer": "ipython3",
   "version": "3.11.5"
  }
 },
 "nbformat": 4,
 "nbformat_minor": 5
}
