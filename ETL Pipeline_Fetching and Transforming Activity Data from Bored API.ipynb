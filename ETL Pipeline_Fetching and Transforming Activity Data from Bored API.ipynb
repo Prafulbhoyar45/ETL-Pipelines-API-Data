{
 "cells": [
  {
   "cell_type": "markdown",
   "id": "c174aba9",
   "metadata": {},
   "source": [
    "# ETL Pipeline: Fetching and Transforming Activity Data from Bored API\n",
    "\n"
   ]
  },
  {
   "cell_type": "markdown",
   "id": "b0e8f560",
   "metadata": {},
   "source": [
    "#### Import Necessary Libraries"
   ]
  },
  {
   "cell_type": "code",
   "execution_count": 1,
   "id": "0c20836f",
   "metadata": {},
   "outputs": [],
   "source": [
    "# Import the requests library to handle HTTP requests\n",
    "import requests\n",
    "\n",
    "# Import the pandas library to handle data in a tabular format\n",
    "import pandas as pd\n"
   ]
  },
  {
   "cell_type": "markdown",
   "id": "a4af4e81",
   "metadata": {},
   "source": [
    "#### Collect Data from the API in JSON Format"
   ]
  },
  {
   "cell_type": "code",
   "execution_count": 4,
   "id": "97f456b7",
   "metadata": {},
   "outputs": [
    {
     "name": "stdout",
     "output_type": "stream",
     "text": [
      "Tabular formatted data:\n",
      "          Name Gender                    Email         Phone Nationality\n",
      "0  Harvey Hall   male  harvey.hall@example.com  07-0406-0734          AU\n"
     ]
    }
   ],
   "source": [
    "# Set the URL for the Random User API\n",
    "URL = 'https://randomuser.me/api/'\n",
    "\n",
    "# Fetch data from the API\n",
    "response = requests.get(URL)\n",
    "\n",
    "# Check if the request was successful\n",
    "if response.status_code == 200:\n",
    "    # Parse the JSON response\n",
    "    data = response.json()\n",
    "    \n",
    "    # Extract user details and convert to DataFrame\n",
    "    user_data = {\n",
    "        'Name': [f\"{data['results'][0]['name']['first']} {data['results'][0]['name']['last']}\"],\n",
    "        'Gender': [data['results'][0]['gender']],\n",
    "        'Email': [data['results'][0]['email']],\n",
    "        'Phone': [data['results'][0]['phone']],\n",
    "        'Nationality': [data['results'][0]['nat']]\n",
    "    }\n",
    "\n",
    "    # Create a pandas DataFrame from the dictionary\n",
    "    df = pd.DataFrame(user_data)\n",
    "    \n",
    "    # Display the DataFrame\n",
    "    print(\"Tabular formatted data:\")\n",
    "    print(df)\n",
    "else:\n",
    "    print(f\"Failed to fetch data. HTTP Status code: {response.status_code}\")\n"
   ]
  },
  {
   "cell_type": "code",
   "execution_count": null,
   "id": "9a1e3b19",
   "metadata": {},
   "outputs": [],
   "source": []
  }
 ],
 "metadata": {
  "kernelspec": {
   "display_name": "Python 3 (ipykernel)",
   "language": "python",
   "name": "python3"
  },
  "language_info": {
   "codemirror_mode": {
    "name": "ipython",
    "version": 3
   },
   "file_extension": ".py",
   "mimetype": "text/x-python",
   "name": "python",
   "nbconvert_exporter": "python",
   "pygments_lexer": "ipython3",
   "version": "3.11.5"
  }
 },
 "nbformat": 4,
 "nbformat_minor": 5
}
