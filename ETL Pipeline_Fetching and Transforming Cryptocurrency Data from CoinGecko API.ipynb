{
 "cells": [
  {
   "cell_type": "markdown",
   "id": "ec16cab9",
   "metadata": {},
   "source": [
    "# ETL Pipeline: Fetching and Transforming Cryptocurrency Data from CoinGecko API"
   ]
  },
  {
   "cell_type": "markdown",
   "id": "a1052475",
   "metadata": {},
   "source": [
    "#### Step 1: Install Necessary Libraries"
   ]
  },
  {
   "cell_type": "code",
   "execution_count": 1,
   "id": "28f695f3",
   "metadata": {},
   "outputs": [],
   "source": [
    "# # First, we need to install the required packages. Run the following cell to install requests and pandas if they are not already installed.\n",
    "# # Install the necessary packages\n",
    "# !pip install requests pandas"
   ]
  },
  {
   "cell_type": "markdown",
   "id": "53ee2728",
   "metadata": {},
   "source": [
    "#### Step 2: Import Necessary Libraries"
   ]
  },
  {
   "cell_type": "code",
   "execution_count": 3,
   "id": "fd51f6c5",
   "metadata": {},
   "outputs": [],
   "source": [
    "# Next, we import the necessary libraries.\n",
    "# Import the requests library to handle HTTP requests\n",
    "import requests\n",
    "\n",
    "# Import the pandas library to handle data in a tabular format\n",
    "import pandas as pd"
   ]
  },
  {
   "cell_type": "markdown",
   "id": "c2def011",
   "metadata": {},
   "source": [
    "#### Step 3: Collect Data from the API in JSON Format"
   ]
  },
  {
   "cell_type": "code",
   "execution_count": 4,
   "id": "c6b060b1",
   "metadata": {},
   "outputs": [
    {
     "name": "stdout",
     "output_type": "stream",
     "text": [
      "Fetched JSON data:\n",
      "[{'id': 'bitcoin', 'symbol': 'btc', 'name': 'Bitcoin', 'image': 'https://coin-images.coingecko.com/coins/images/1/large/bitcoin.png?1696501400', 'current_price': 69712, 'market_cap': 1375990313803, 'market_cap_rank': 1, 'fully_diluted_valuation': 1464366580213, 'total_volume': 18090043910, 'high_24h': 69843, 'low_24h': 67280, 'price_change_24h': 2211.81, 'price_change_percentage_24h': 3.27677, 'market_cap_change_24h': 43975539970, 'market_cap_change_percentage_24h': 3.30143, 'circulating_supply': 19732625.0, 'total_supply': 21000000.0, 'max_supply': 21000000.0, 'ath': 73738, 'ath_change_percentage': -5.43202, 'ath_date': '2024-03-14T07:10:36.635Z', 'atl': 67.81, 'atl_change_percentage': 102736.61293, 'atl_date': '2013-07-06T00:00:00.000Z', 'roi': None, 'last_updated': '2024-07-29T06:47:39.203Z'}, {'id': 'ethereum', 'symbol': 'eth', 'name': 'Ethereum', 'image': 'https://coin-images.coingecko.com/coins/images/279/large/ethereum.png?1696501628', 'current_price': 3376.38, 'market_cap': 406458914377, 'market_cap_rank': 2, 'fully_diluted_valuation': 406458914377, 'total_volume': 10184979028, 'high_24h': 3383.54, 'low_24h': 3216.02, 'price_change_24h': 148.27, 'price_change_percentage_24h': 4.59313, 'market_cap_change_24h': 18253975070, 'market_cap_change_percentage_24h': 4.70215, 'circulating_supply': 120245347.276178, 'total_supply': 120245347.276178, 'max_supply': None, 'ath': 4878.26, 'ath_change_percentage': -30.66784, 'ath_date': '2021-11-10T14:24:19.604Z', 'atl': 0.432979, 'atl_change_percentage': 781047.50277, 'atl_date': '2015-10-20T00:00:00.000Z', 'roi': {'times': 63.75592190199182, 'currency': 'btc', 'percentage': 6375.5921901991815}, 'last_updated': '2024-07-29T06:47:31.928Z'}, {'id': 'tether', 'symbol': 'usdt', 'name': 'Tether', 'image': 'https://coin-images.coingecko.com/coins/images/325/large/Tether.png?1696501661', 'current_price': 0.999872, 'market_cap': 114403235303, 'market_cap_rank': 3, 'fully_diluted_valuation': 114403235303, 'total_volume': 33178810649, 'high_24h': 1.003, 'low_24h': 0.998795, 'price_change_24h': -0.000340618439289342, 'price_change_percentage_24h': -0.03405, 'market_cap_change_24h': 77243484, 'market_cap_change_percentage_24h': 0.06756, 'circulating_supply': 114417852141.833, 'total_supply': 114417852141.833, 'max_supply': None, 'ath': 1.32, 'ath_change_percentage': -24.42075, 'ath_date': '2018-07-24T00:00:00.000Z', 'atl': 0.572521, 'atl_change_percentage': 74.66356, 'atl_date': '2015-03-02T00:00:00.000Z', 'roi': None, 'last_updated': '2024-07-29T06:45:28.598Z'}, {'id': 'solana', 'symbol': 'sol', 'name': 'Solana', 'image': 'https://coin-images.coingecko.com/coins/images/4128/large/solana.png?1718769756', 'current_price': 193.1, 'market_cap': 89861580692, 'market_cap_rank': 4, 'fully_diluted_valuation': 112356260174, 'total_volume': 3327671509, 'high_24h': 193.76, 'low_24h': 181.79, 'price_change_24h': 10.87, 'price_change_percentage_24h': 5.96466, 'market_cap_change_24h': 5244322833, 'market_cap_change_percentage_24h': 6.1977, 'circulating_supply': 464710535.418498, 'total_supply': 581039610.266016, 'max_supply': None, 'ath': 259.96, 'ath_change_percentage': -25.54434, 'ath_date': '2021-11-06T21:54:35.825Z', 'atl': 0.500801, 'atl_change_percentage': 38548.94651, 'atl_date': '2020-05-11T19:35:23.449Z', 'roi': None, 'last_updated': '2024-07-29T06:46:57.619Z'}, {'id': 'binancecoin', 'symbol': 'bnb', 'name': 'BNB', 'image': 'https://coin-images.coingecko.com/coins/images/825/large/bnb-icon2_2x.png?1696501970', 'current_price': 594.26, 'market_cap': 86718966768, 'market_cap_rank': 5, 'fully_diluted_valuation': 86718966768, 'total_volume': 523382858, 'high_24h': 596.88, 'low_24h': 577.18, 'price_change_24h': 14.47, 'price_change_percentage_24h': 2.49518, 'market_cap_change_24h': -2496045797.6209717, 'market_cap_change_percentage_24h': -2.79779, 'circulating_supply': 145887575.79, 'total_supply': 145887575.79, 'max_supply': 200000000.0, 'ath': 717.48, 'ath_change_percentage': -17.11965, 'ath_date': '2024-06-06T14:10:59.816Z', 'atl': 0.0398177, 'atl_change_percentage': 1493321.57801, 'atl_date': '2017-10-19T00:00:00.000Z', 'roi': None, 'last_updated': '2024-07-29T06:47:38.748Z'}, {'id': 'usd-coin', 'symbol': 'usdc', 'name': 'USDC', 'image': 'https://coin-images.coingecko.com/coins/images/6319/large/usdc.png?1696506694', 'current_price': 0.999715, 'market_cap': 34075628953, 'market_cap_rank': 6, 'fully_diluted_valuation': 34129353450, 'total_volume': 3892432501, 'high_24h': 1.003, 'low_24h': 0.998495, 'price_change_24h': -0.000229782451023675, 'price_change_percentage_24h': -0.02298, 'market_cap_change_24h': -74512793.31050873, 'market_cap_change_percentage_24h': -0.21819, 'circulating_supply': 34085345856.7622, 'total_supply': 34139085673.2881, 'max_supply': None, 'ath': 1.17, 'ath_change_percentage': -14.73328, 'ath_date': '2019-05-08T00:40:28.300Z', 'atl': 0.877647, 'atl_change_percentage': 13.93288, 'atl_date': '2023-03-11T08:02:13.981Z', 'roi': None, 'last_updated': '2024-07-29T06:47:04.462Z'}, {'id': 'ripple', 'symbol': 'xrp', 'name': 'XRP', 'image': 'https://coin-images.coingecko.com/coins/images/44/large/xrp-symbol-white-128.png?1696501442', 'current_price': 0.608225, 'market_cap': 34055636435, 'market_cap_rank': 7, 'fully_diluted_valuation': 60848498741, 'total_volume': 1075991947, 'high_24h': 0.612794, 'low_24h': 0.597916, 'price_change_24h': 0.00677077, 'price_change_percentage_24h': 1.12573, 'market_cap_change_24h': 397761107, 'market_cap_change_percentage_24h': 1.18178, 'circulating_supply': 55960868753.0, 'total_supply': 99987409084.0, 'max_supply': 100000000000.0, 'ath': 3.4, 'ath_change_percentage': -82.07729, 'ath_date': '2018-01-07T00:00:00.000Z', 'atl': 0.00268621, 'atl_change_percentage': 22574.88331, 'atl_date': '2014-05-22T00:00:00.000Z', 'roi': None, 'last_updated': '2024-07-29T06:47:38.380Z'}, {'id': 'staked-ether', 'symbol': 'steth', 'name': 'Lido Staked Ether', 'image': 'https://coin-images.coingecko.com/coins/images/13442/large/steth_logo.png?1696513206', 'current_price': 3379.32, 'market_cap': 33203701701, 'market_cap_rank': 8, 'fully_diluted_valuation': 33203701701, 'total_volume': 27688224, 'high_24h': 3382.78, 'low_24h': 3216.08, 'price_change_24h': 152.6, 'price_change_percentage_24h': 4.7291, 'market_cap_change_24h': 1490683326, 'market_cap_change_percentage_24h': 4.70054, 'circulating_supply': 9823224.08462961, 'total_supply': 9823224.08462961, 'max_supply': None, 'ath': 4829.57, 'ath_change_percentage': -29.96019, 'ath_date': '2021-11-10T14:40:47.256Z', 'atl': 482.9, 'atl_change_percentage': 600.48631, 'atl_date': '2020-12-22T04:08:21.854Z', 'roi': None, 'last_updated': '2024-07-29T06:47:03.738Z'}, {'id': 'dogecoin', 'symbol': 'doge', 'name': 'Dogecoin', 'image': 'https://coin-images.coingecko.com/coins/images/5/large/dogecoin.png?1696501409', 'current_price': 0.134576, 'market_cap': 19561367151, 'market_cap_rank': 9, 'fully_diluted_valuation': 19565036191, 'total_volume': 960862873, 'high_24h': 0.134639, 'low_24h': 0.128783, 'price_change_24h': 0.00434413, 'price_change_percentage_24h': 3.33568, 'market_cap_change_24h': 641613152, 'market_cap_change_percentage_24h': 3.39123, 'circulating_supply': 145282496383.705, 'total_supply': 145309746383.705, 'max_supply': None, 'ath': 0.731578, 'ath_change_percentage': -81.60704, 'ath_date': '2021-05-08T05:08:23.458Z', 'atl': 8.69e-05, 'atl_change_percentage': 154736.66291, 'atl_date': '2015-05-06T00:00:00.000Z', 'roi': None, 'last_updated': '2024-07-29T06:47:22.698Z'}, {'id': 'the-open-network', 'symbol': 'ton', 'name': 'Toncoin', 'image': 'https://coin-images.coingecko.com/coins/images/17980/large/ton_symbol.png?1696517498', 'current_price': 6.76, 'market_cap': 17021305621, 'market_cap_rank': 10, 'fully_diluted_valuation': 34560150994, 'total_volume': 195183166, 'high_24h': 6.78, 'low_24h': 6.52, 'price_change_24h': 0.194718, 'price_change_percentage_24h': 2.96744, 'market_cap_change_24h': 497661482, 'market_cap_change_percentage_24h': 3.01181, 'circulating_supply': 2516597160.0634, 'total_supply': 5109712485.11803, 'max_supply': None, 'ath': 8.25, 'ath_change_percentage': -18.03083, 'ath_date': '2024-06-15T00:36:51.509Z', 'atl': 0.519364, 'atl_change_percentage': 1202.63477, 'atl_date': '2021-09-21T00:33:11.092Z', 'roi': None, 'last_updated': '2024-07-29T06:47:37.895Z'}]\n"
     ]
    }
   ],
   "source": [
    "# We'll fetch cryptocurrency data from the CoinGecko API and display the JSON data.\n",
    "# Set the URL for the CoinGecko API to fetch cryptocurrency data\n",
    "URL = 'https://api.coingecko.com/api/v3/coins/markets'\n",
    "\n",
    "# Define the parameters for the API request\n",
    "params = {\n",
    "    'vs_currency': 'usd',  # The currency to compare against\n",
    "    'order': 'market_cap_desc',  # Order by market cap descending\n",
    "    'per_page': 10,  # Number of results per page\n",
    "    'page': 1,  # Page number\n",
    "    'sparkline': 'false'  # Whether to include sparkline data\n",
    "}\n",
    "\n",
    "# Fetch data from the API\n",
    "response = requests.get(URL, params=params)\n",
    "\n",
    "# Check if the request was successful\n",
    "if response.status_code == 200:\n",
    "    # Parse the JSON response\n",
    "    data = response.json()\n",
    "    \n",
    "    # Print the JSON data\n",
    "    print(\"Fetched JSON data:\")\n",
    "    print(data)\n",
    "else:\n",
    "    # Print an error message if the request was not successful\n",
    "    print(f\"Failed to fetch data. HTTP Status code: {response.status_code}\")\n"
   ]
  },
  {
   "cell_type": "markdown",
   "id": "3b92871c",
   "metadata": {},
   "source": [
    "#### Step 4: Transform Data into Tabular Format"
   ]
  },
  {
   "cell_type": "code",
   "execution_count": 5,
   "id": "334601fc",
   "metadata": {},
   "outputs": [
    {
     "name": "stdout",
     "output_type": "stream",
     "text": [
      "Transformed data into tabular format.\n"
     ]
    }
   ],
   "source": [
    "# We'll transform the JSON data into a pandas DataFrame for easier analysis and manipulation.\n",
    "# Check if the request was successful before transforming data\n",
    "if response.status_code == 200:\n",
    "    # Extract necessary data and convert it into a pandas DataFrame\n",
    "    # We create a dictionary where each key is a column name and each value is a list of column values\n",
    "    crypto_data = {\n",
    "        'ID': [coin['id'] for coin in data],\n",
    "        'Symbol': [coin['symbol'] for coin in data],\n",
    "        'Name': [coin['name'] for coin in data],\n",
    "        'Current Price': [coin['current_price'] for coin in data],\n",
    "        'Market Cap': [coin['market_cap'] for coin in data],\n",
    "        'Total Volume': [coin['total_volume'] for coin in data],\n",
    "        'High 24h': [coin['high_24h'] for coin in data],\n",
    "        'Low 24h': [coin['low_24h'] for coin in data]\n",
    "    }\n",
    "\n",
    "    # Create a pandas DataFrame from the dictionary\n",
    "    df = pd.DataFrame(crypto_data)\n",
    "    \n",
    "    # Print a message indicating successful transformation\n",
    "    print(\"Transformed data into tabular format.\")\n",
    "else:\n",
    "    # Print an error message if the request was not successful\n",
    "    print(f\"Failed to fetch data. HTTP Status code: {response.status_code}\")\n"
   ]
  },
  {
   "cell_type": "markdown",
   "id": "a3bad675",
   "metadata": {},
   "source": [
    "#### Step 5: Show the Tabular Formatted Data"
   ]
  },
  {
   "cell_type": "code",
   "execution_count": 6,
   "id": "cfdb598f",
   "metadata": {},
   "outputs": [
    {
     "data": {
      "text/html": [
       "<div>\n",
       "<style scoped>\n",
       "    .dataframe tbody tr th:only-of-type {\n",
       "        vertical-align: middle;\n",
       "    }\n",
       "\n",
       "    .dataframe tbody tr th {\n",
       "        vertical-align: top;\n",
       "    }\n",
       "\n",
       "    .dataframe thead th {\n",
       "        text-align: right;\n",
       "    }\n",
       "</style>\n",
       "<table border=\"1\" class=\"dataframe\">\n",
       "  <thead>\n",
       "    <tr style=\"text-align: right;\">\n",
       "      <th></th>\n",
       "      <th>ID</th>\n",
       "      <th>Symbol</th>\n",
       "      <th>Name</th>\n",
       "      <th>Current Price</th>\n",
       "      <th>Market Cap</th>\n",
       "      <th>Total Volume</th>\n",
       "      <th>High 24h</th>\n",
       "      <th>Low 24h</th>\n",
       "    </tr>\n",
       "  </thead>\n",
       "  <tbody>\n",
       "    <tr>\n",
       "      <th>0</th>\n",
       "      <td>bitcoin</td>\n",
       "      <td>btc</td>\n",
       "      <td>Bitcoin</td>\n",
       "      <td>69712.000000</td>\n",
       "      <td>1375990313803</td>\n",
       "      <td>18090043910</td>\n",
       "      <td>69843.000</td>\n",
       "      <td>67280.000000</td>\n",
       "    </tr>\n",
       "    <tr>\n",
       "      <th>1</th>\n",
       "      <td>ethereum</td>\n",
       "      <td>eth</td>\n",
       "      <td>Ethereum</td>\n",
       "      <td>3376.380000</td>\n",
       "      <td>406458914377</td>\n",
       "      <td>10184979028</td>\n",
       "      <td>3383.540</td>\n",
       "      <td>3216.020000</td>\n",
       "    </tr>\n",
       "    <tr>\n",
       "      <th>2</th>\n",
       "      <td>tether</td>\n",
       "      <td>usdt</td>\n",
       "      <td>Tether</td>\n",
       "      <td>0.999872</td>\n",
       "      <td>114403235303</td>\n",
       "      <td>33178810649</td>\n",
       "      <td>1.003</td>\n",
       "      <td>0.998795</td>\n",
       "    </tr>\n",
       "    <tr>\n",
       "      <th>3</th>\n",
       "      <td>solana</td>\n",
       "      <td>sol</td>\n",
       "      <td>Solana</td>\n",
       "      <td>193.100000</td>\n",
       "      <td>89861580692</td>\n",
       "      <td>3327671509</td>\n",
       "      <td>193.760</td>\n",
       "      <td>181.790000</td>\n",
       "    </tr>\n",
       "    <tr>\n",
       "      <th>4</th>\n",
       "      <td>binancecoin</td>\n",
       "      <td>bnb</td>\n",
       "      <td>BNB</td>\n",
       "      <td>594.260000</td>\n",
       "      <td>86718966768</td>\n",
       "      <td>523382858</td>\n",
       "      <td>596.880</td>\n",
       "      <td>577.180000</td>\n",
       "    </tr>\n",
       "  </tbody>\n",
       "</table>\n",
       "</div>"
      ],
      "text/plain": [
       "            ID Symbol      Name  Current Price     Market Cap  Total Volume  \\\n",
       "0      bitcoin    btc   Bitcoin   69712.000000  1375990313803   18090043910   \n",
       "1     ethereum    eth  Ethereum    3376.380000   406458914377   10184979028   \n",
       "2       tether   usdt    Tether       0.999872   114403235303   33178810649   \n",
       "3       solana    sol    Solana     193.100000    89861580692    3327671509   \n",
       "4  binancecoin    bnb       BNB     594.260000    86718966768     523382858   \n",
       "\n",
       "    High 24h       Low 24h  \n",
       "0  69843.000  67280.000000  \n",
       "1   3383.540   3216.020000  \n",
       "2      1.003      0.998795  \n",
       "3    193.760    181.790000  \n",
       "4    596.880    577.180000  "
      ]
     },
     "execution_count": 6,
     "metadata": {},
     "output_type": "execute_result"
    }
   ],
   "source": [
    "df.head()"
   ]
  },
  {
   "cell_type": "markdown",
   "id": "6c941c24",
   "metadata": {},
   "source": []
  },
  {
   "cell_type": "code",
   "execution_count": null,
   "id": "4a935419",
   "metadata": {},
   "outputs": [],
   "source": []
  }
 ],
 "metadata": {
  "kernelspec": {
   "display_name": "Python 3 (ipykernel)",
   "language": "python",
   "name": "python3"
  },
  "language_info": {
   "codemirror_mode": {
    "name": "ipython",
    "version": 3
   },
   "file_extension": ".py",
   "mimetype": "text/x-python",
   "name": "python",
   "nbconvert_exporter": "python",
   "pygments_lexer": "ipython3",
   "version": "3.11.5"
  }
 },
 "nbformat": 4,
 "nbformat_minor": 5
}
